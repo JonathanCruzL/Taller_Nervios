{
  "nbformat": 4,
  "nbformat_minor": 0,
  "metadata": {
    "colab": {
      "provenance": [],
      "collapsed_sections": []
    },
    "kernelspec": {
      "name": "python3",
      "display_name": "Python 3"
    },
    "language_info": {
      "name": "python"
    }
  },
  "cells": [
    {
      "cell_type": "markdown",
      "source": [
        "<figcaption align = \"center\">\n",
        "<h1>\n",
        "<b>\n",
        "<FONT FACE=\"times new roman\">\n",
        "IMPLEMENTACIÓN DE APP CON MODELO PRE-ENTRENADO\n",
        "</b>\n",
        "</h1>\n",
        "\n",
        "<h3>\n",
        "<FONT FACE=\"times new roman\">¡Qué tal si implementamos nuestro modelo pre-entrenado para generar alguna predicción en un entorno amigable!\n",
        "</h3><br>\n",
        "\n",
        "> <p align=\"justify\"> ngrok es un entorno que ofrece una interfaz de usuario y nos permite exponer a internet una URL generada dinámicamente, la cual apunta a un servicio web que se está ejecutando desde nuestro código de Google Colab. <br><br>\n",
        "<b>Paso 1)</b> Necesitaremos crear una cuenta en ngrok. \n",
        "\n",
        "Crea tu cuenta en ngrok... ¡Sólo debes acceder con tu cuenta de Google! [go to ngrok](https://ngrok.com). <br>\n",
        "Debes dar clic en el botón <b>\"Sign Up For Free\"</b>. Luego, <b>\"Sign up with Google\"</b>.\n",
        "\n",
        "> <p align=\"justify\"> <b>Paso 2)</b> Una vez estés dentro de tu cuenta ngrok, busca en el menú de la parte izquiera una opción llamada <b>\"Your Authtoken\"</b>.\n",
        "\n",
        "> <p align=\"justify\"> <b>Paso 3)</b> Dale clic en el botón azul <b> Copy</b>. ¡No te asustes con ese código extraño! Solo cópialo y pégalo en la siguiente celda de código.\n"
      ],
      "metadata": {
        "id": "Gb8vnRbjWHXu"
      }
    },
    {
      "cell_type": "code",
      "source": [
        "# PEGA TU CÓDIGO EXTRAÑO ENTRE LAS COMILLAS DE LA SIGUIENTE LÍNEA DE CÓDIGO\n",
        "\n",
        "Your_Authtoken = \"\"    # <--- Ahí va tu código, ¡¡ Entre las comillas !!"
      ],
      "metadata": {
        "id": "T223zs6OdXhj"
      },
      "execution_count": 3,
      "outputs": []
    },
    {
      "cell_type": "markdown",
      "source": [
        "> <p align=\"justify\"> <FONT FACE=\"times new roman\"> <b>Paso 4)</b> Dentro de nuestro entorno de Google Colab, busca en la parte izquierda un ícono de carpeta, aquí están los archivos de nuestro cuaderno. Dale clic al botón de <b>Cargar archivos al almacenamiento de sesión</b> y sube:<br>\n",
        "> <p align=\"center\"> \n",
        " <b>1)</b> El modelo pre-entrenado que descargaste antes.<br>\n",
        " <b>2)</b> El archivo <b>\"app.py\"</b> que se descarga desde el repositorio."
      ],
      "metadata": {
        "id": "CuG0IsTieW88"
      }
    },
    {
      "cell_type": "markdown",
      "source": [
        "# <h4> <FONT FACE=\"times new roman\">  Ahora instalaremos algunas librerías necesarias... </h4><br>"
      ],
      "metadata": {
        "id": "i7p6M-eSd2PH"
      }
    },
    {
      "cell_type": "code",
      "metadata": {
        "id": "gs5d-jOeuvqZ",
        "outputId": "df0c4b77-c50f-4eb3-9daf-daa55316ce68",
        "colab": {
          "base_uri": "https://localhost:8080/"
        }
      },
      "source": [
        "! pip install streamlit -q            # Streamlit permite "
      ],
      "execution_count": 1,
      "outputs": [
        {
          "output_type": "stream",
          "name": "stdout",
          "text": [
            "\u001b[K     |████████████████████████████████| 9.2 MB 5.2 MB/s \n",
            "\u001b[K     |████████████████████████████████| 182 kB 41.6 MB/s \n",
            "\u001b[K     |████████████████████████████████| 237 kB 69.3 MB/s \n",
            "\u001b[K     |████████████████████████████████| 4.7 MB 44.2 MB/s \n",
            "\u001b[K     |████████████████████████████████| 164 kB 67.8 MB/s \n",
            "\u001b[K     |████████████████████████████████| 78 kB 3.1 MB/s \n",
            "\u001b[K     |████████████████████████████████| 63 kB 734 kB/s \n",
            "\u001b[K     |████████████████████████████████| 51 kB 4.9 MB/s \n",
            "\u001b[?25h  Building wheel for validators (setup.py) ... \u001b[?25l\u001b[?25hdone\n"
          ]
        }
      ]
    },
    {
      "cell_type": "code",
      "metadata": {
        "id": "DaUIzq8Nu4QZ",
        "outputId": "6dc81cdd-ebe3-47c1-9dad-9cc036e371dd",
        "colab": {
          "base_uri": "https://localhost:8080/"
        }
      },
      "source": [
        " ! pip install pyngrok"
      ],
      "execution_count": 4,
      "outputs": [
        {
          "output_type": "stream",
          "name": "stdout",
          "text": [
            "Looking in indexes: https://pypi.org/simple, https://us-python.pkg.dev/colab-wheels/public/simple/\n",
            "Collecting pyngrok\n",
            "  Downloading pyngrok-5.1.0.tar.gz (745 kB)\n",
            "\u001b[K     |████████████████████████████████| 745 kB 5.1 MB/s \n",
            "\u001b[?25hRequirement already satisfied: PyYAML in /usr/local/lib/python3.7/dist-packages (from pyngrok) (6.0)\n",
            "Building wheels for collected packages: pyngrok\n",
            "  Building wheel for pyngrok (setup.py) ... \u001b[?25l\u001b[?25hdone\n",
            "  Created wheel for pyngrok: filename=pyngrok-5.1.0-py3-none-any.whl size=19007 sha256=090470eea9acf79e1c517dad9e9b50e6d7cb570ea47fdf6c0211f96831dc8288\n",
            "  Stored in directory: /root/.cache/pip/wheels/bf/e6/af/ccf6598ecefecd44104069371795cb9b3afbcd16987f6ccfb3\n",
            "Successfully built pyngrok\n",
            "Installing collected packages: pyngrok\n",
            "Successfully installed pyngrok-5.1.0\n"
          ]
        }
      ]
    },
    {
      "cell_type": "code",
      "metadata": {
        "id": "Kkz6oohKvd4R"
      },
      "source": [
        "from pyngrok import ngrok"
      ],
      "execution_count": 5,
      "outputs": []
    },
    {
      "cell_type": "markdown",
      "source": [
        "# <h4> <FONT FACE=\"times new roman\">  Las siguientes secciones de código nos dirigen a la interfaz de usuario donde podremos hacer nuestra predicción. </h4><br>"
      ],
      "metadata": {
        "id": "if_vn5XfhMHS"
      }
    },
    {
      "cell_type": "code",
      "source": [
        "ngrok.set_auth_token(Your_Authtoken) #ngrok.com   Generar entorno"
      ],
      "metadata": {
        "id": "By4KbSE657N_",
        "colab": {
          "base_uri": "https://localhost:8080/"
        },
        "outputId": "ceb4c08b-f61f-4624-cab6-bf145a322f3d"
      },
      "execution_count": 6,
      "outputs": [
        {
          "output_type": "stream",
          "name": "stdout",
          "text": []
        }
      ]
    },
    {
      "cell_type": "code",
      "metadata": {
        "id": "U0saJbOCvaNq",
        "outputId": "55d557d5-24f6-418f-b5dd-a7cd94fc8639",
        "colab": {
          "base_uri": "https://localhost:8080/"
        }
      },
      "source": [
        "!nohup streamlit run app.py --server.port 80 &      # Dale clic al link http.\n",
        "url = ngrok.connect(port = '80')\n",
        "print(url)"
      ],
      "execution_count": 35,
      "outputs": [
        {
          "output_type": "stream",
          "name": "stdout",
          "text": [
            "nohup: appending output to 'nohup.out'\n",
            "NgrokTunnel: \"http://9d8f-34-123-230-88.ngrok.io\" -> \"http://localhost:80\"\n"
          ]
        }
      ]
    },
    {
      "cell_type": "code",
      "source": [
        "!pgrep ngrok"
      ],
      "metadata": {
        "id": "dxP7MZQkPJjA"
      },
      "execution_count": null,
      "outputs": []
    },
    {
      "cell_type": "code",
      "source": [
        "!kill -9 1058"
      ],
      "metadata": {
        "id": "zWSw-usMPHwZ"
      },
      "execution_count": 34,
      "outputs": []
    }
  ]
}