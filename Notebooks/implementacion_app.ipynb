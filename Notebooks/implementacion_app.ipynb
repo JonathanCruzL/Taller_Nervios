{
  "nbformat": 4,
  "nbformat_minor": 0,
  "metadata": {
    "colab": {
      "provenance": [],
      "collapsed_sections": []
    },
    "kernelspec": {
      "name": "python3",
      "display_name": "Python 3"
    },
    "language_info": {
      "name": "python"
    }
  },
  "cells": [
    {
      "cell_type": "markdown",
      "source": [
        "<figcaption align = \"center\">\n",
        "<h1>\n",
        "<b>\n",
        "<FONT FACE=\"times new roman\">\n",
        "IMPLEMENTACIÓN DE APP CON MODELO PRE-ENTRENADO\n",
        "</b>\n",
        "</h1>\n",
        "\n",
        "<h3>\n",
        "<FONT FACE=\"times new roman\">¡Qué tal si implementamos nuestro modelo pre-entrenado para generar alguna predicción en un entorno amigable!\n",
        "</h3><br>\n",
        "\n",
        "> <p align=\"justify\"> ngrok es un entorno que ofrece una interfaz de usuario y nos permite exponer a internet una URL generada dinámicamente, la cual apunta a un servicio web que se está ejecutando desde nuestro código de Google Colab.\n",
        "\n"
      ],
      "metadata": {
        "id": "Gb8vnRbjWHXu"
      }
    },
    {
      "cell_type": "markdown",
      "source": [
        "> <p align=\"justify\"> <FONT FACE=\"times new roman\"> <b>Paso 1)</b> Conecta el entorno de Google Colab y busca en la parte izquierda un ícono de carpeta, aquí están los archivos de nuestro cuaderno. Dale clic al botón de <b>Cargar archivos al almacenamiento de sesión</b> y sube:<br>\n",
        "> <p align=\"center\"> \n",
        " <b>1)</b> El modelo pre-entrenado que descargaste antes.<br>\n",
        " <b>2)</b> El archivo <b>\"app.py\"</b> que se descarga desde el repositorio.\n",
        "\n",
        "> <FONT FACE=\"times new roman\"><b>Paso 2)</b> Necesitaremos crear una cuenta en ngrok. <br>\n",
        "\n",
        ">Crea tu cuenta en ngrok... ¡Sólo debes acceder con tu cuenta de Google! [go to ngrok](https://ngrok.com). <br>\n",
        "Debes dar clic en el botón <b>\"Sign Up For Free\"</b>. Luego, <b>\"Sign up with Google\"</b>.\n",
        "\n",
        "> <p align=\"justify\"> <b>Paso 3)</b> Una vez estés dentro de tu cuenta ngrok, busca en el menú de la parte izquiera una opción llamada <b>\"Your Authtoken\"</b>.\n",
        "\n",
        "> <p align=\"justify\"> <b>Paso 4)</b> Dale clic en el botón azul <b> Copy</b>. ¡No te asustes con ese código extraño! Solo cópialo y pégalo en la siguiente celda de código."
      ],
      "metadata": {
        "id": "CuG0IsTieW88"
      }
    },
    {
      "cell_type": "code",
      "source": [
        "# PEGA TU CÓDIGO EXTRAÑO ENTRE LAS COMILLAS DE LA SIGUIENTE LÍNEA DE CÓDIGO\n",
        "\n",
        "Your_Authtoken = \"\"    # <--- Ahí va tu código, ¡¡ Entre las comillas !!"
      ],
      "metadata": {
        "id": "T223zs6OdXhj"
      },
      "execution_count": null,
      "outputs": []
    },
    {
      "cell_type": "markdown",
      "source": [
        "# <h4> <FONT FACE=\"times new roman\">  Ahora instalaremos algunas librerías necesarias... </h4><br>"
      ],
      "metadata": {
        "id": "i7p6M-eSd2PH"
      }
    },
    {
      "cell_type": "code",
      "metadata": {
        "id": "gs5d-jOeuvqZ"
      },
      "source": [
        "! pip install streamlit -q            # Streamlit permite "
      ],
      "execution_count": null,
      "outputs": []
    },
    {
      "cell_type": "code",
      "metadata": {
        "id": "DaUIzq8Nu4QZ"
      },
      "source": [
        " ! pip install pyngrok"
      ],
      "execution_count": null,
      "outputs": []
    },
    {
      "cell_type": "code",
      "metadata": {
        "id": "Kkz6oohKvd4R"
      },
      "source": [
        "from pyngrok import ngrok"
      ],
      "execution_count": null,
      "outputs": []
    },
    {
      "cell_type": "markdown",
      "source": [
        "# <h4> <FONT FACE=\"times new roman\">  Las siguientes secciones de código nos dirigen a la interfaz de usuario donde podremos hacer nuestra predicción. </h4><br>"
      ],
      "metadata": {
        "id": "if_vn5XfhMHS"
      }
    },
    {
      "cell_type": "code",
      "source": [
        "ngrok.set_auth_token(Your_Authtoken) #ngrok.com   Generar entorno"
      ],
      "metadata": {
        "id": "By4KbSE657N_"
      },
      "execution_count": null,
      "outputs": []
    },
    {
      "cell_type": "code",
      "metadata": {
        "id": "U0saJbOCvaNq"
      },
      "source": [
        "!nohup streamlit run app.py --server.port 80 &      # Dale clic al link http.\n",
        "url = ngrok.connect(port = '80')\n",
        "print(url)"
      ],
      "execution_count": null,
      "outputs": []
    },
    {
      "cell_type": "code",
      "source": [
        "!pgrep ngrok"
      ],
      "metadata": {
        "id": "dxP7MZQkPJjA"
      },
      "execution_count": null,
      "outputs": []
    },
    {
      "cell_type": "code",
      "source": [
        "!kill -9 1058"
      ],
      "metadata": {
        "id": "zWSw-usMPHwZ"
      },
      "execution_count": null,
      "outputs": []
    }
  ]
}